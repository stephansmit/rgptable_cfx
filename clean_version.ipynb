{
 "cells": [
  {
   "cell_type": "code",
   "execution_count": 1,
   "metadata": {},
   "outputs": [],
   "source": [
    "import CoolProp.CoolProp as CP\n",
    "import os\n",
    "import fortranformat as ff\n",
    "import numpy as np"
   ]
  },
  {
   "cell_type": "code",
   "execution_count": null,
   "metadata": {},
   "outputs": [],
   "source": [
    "class SuperHeatTable(object):\n",
    "    def __init__(self,Tsh_max, Tsh_min, Psh_min, Psh_max, nT, nP, fluid):\n",
    "        self.nP = nP\n",
    "        self.nT = nT\n",
    "        self.T_vec = np.linspace(Tsh_min, Tsh_max, nT)\n",
    "        self.P_vec = np.geomspace(Psh_min, Psh_max, nP)\n",
    "        self.fluid = fluid\n",
    "        \n",
    "    def GetSuperHeatProperties(self,T,P,prop):\n",
    "        if prop =='d(P)d(v)|T':\n",
    "            v= 1/CP.PropsSI(\"D\", 'P',P, \"T\", T, self.fluid)\n",
    "            return CP.PropsSI(\"d(P)/d(D)|T\", 'P',P, \"T\", T, self.fluid)*(-1/(v**2))\n",
    "        elif prop =='v':\n",
    "             return 1/CP.PropsSI(\"D\", 'P',P, \"T\", T, self.fluid)\n",
    "        else:\n",
    "            return CP.PropsSI(prop,\"P\",P,\"T\",T,self.fluid )\n",
    "        \n",
    "    def GetPropMatrix(self,prop):\n",
    "        matrix = []\n",
    "        for p in self.P_vec:\n",
    "            matrix.append(self.GetSuperHeatProperties(self.T_vec, p, prop))\n",
    "        return  np.array(matrix)\n",
    "        \n",
    "    def GetPropArray(self,prop):\n",
    "        matrix = []\n",
    "        for p in self.P_vec:\n",
    "            matrix.append(self.GetSuperHeatProperties(self.T_vec, p, prop))\n",
    "        return  [item for sublist in matrix for item in sublist]\n",
    "    \n",
    "    def GetSatProperties(self, P, prop):\n",
    "        if prop =='d(P)d(v)|T':\n",
    "            v= 1/CP.PropsSI(\"D\", 'P',P, \"Q\", 1, self.fluid)\n",
    "            return CP.PropsSI(\"d(P)/d(D)|T\", 'P',P, \"Q\", 1, self.fluid)*(-1/(v**2))\n",
    "        elif prop =='v':\n",
    "             return 1/CP.PropsSI(\"D\", 'P',P, \"Q\", 1,  self.fluid)\n",
    "        else:\n",
    "            return CP.PropsSI(prop,\"P\",P, \"Q\",1, self.fluid)\n",
    "\n",
    "    def GetSubTable(self, nr, prop):\n",
    "        lines=[]\n",
    "        w = ff.FortranRecordWriter('(3ES17.7E3)')\n",
    "        lines.append(\"$TABLE_\"+str(nr))\n",
    "        lines.append(\"{:10d}\".format(self.nT)+\"{:10d}\".format(self.nP))\n",
    "        lines.append(w.write(self.T_vec))\n",
    "        lines.append(w.write(self.P_vec))\n",
    "        lines.append(w.write(self.GetPropArray(prop)))\n",
    "        lines.append(w.write(self.GetSatProperties(self.P_vec, \"T\")))\n",
    "        lines.append(w.write(self.GetSatProperties(self.P_vec, prop)))\n",
    "        return lines\n",
    "    \n",
    "    def GetHeader(self, RGP_table):\n",
    "        l = []\n",
    "        l.append(\"$$$$DATA\")\n",
    "        l.extend(RGP_table._GetSharedHeader())\n",
    "        l.append(\"$$SUPER_TABLE\")\n",
    "        l.append(\"{:10d}\".format(9))\n",
    "        return l\n",
    "    \n",
    "    def GetTable(self, RGP_table):\n",
    "        lines = self.GetHeader(RGP_table)\n",
    "        lines.extend(self.GetSubTable(1, 'H'))\n",
    "        lines.extend(self.GetSubTable(2, 'A'))\n",
    "        lines.extend(self.GetSubTable(3, 'v'))\n",
    "        lines.extend(self.GetSubTable(4, 'CVMASS'))\n",
    "        lines.extend(self.GetSubTable(5, 'CPMASS'))\n",
    "        lines.extend(self.GetSubTable(6, 'd(P)d(v)|T'))\n",
    "        lines.extend(self.GetSubTable(7, 'S'))\n",
    "        lines.extend(self.GetSubTable(8, 'V'))\n",
    "        lines.extend(self.GetSubTable(9, 'L'))\n",
    "        return lines\n",
    "        "
   ]
  },
  {
   "cell_type": "code",
   "execution_count": 30,
   "metadata": {},
   "outputs": [],
   "source": [
    "class SaturationTable(object):\n",
    "    def __init__(self,Tsat_max, Tsat_min, npoints,fluid):\n",
    "        self.npoints= npoints\n",
    "        self.T_vec = np.linspace(Tsat_min, Tsat_max, npoints)\n",
    "        self.fluid = fluid\n",
    "        self.CalcProp()\n",
    "    \n",
    "    def CalcProp(self):\n",
    "        self.Psat = CP.PropsSI(\"P\",          'T',self.T_vec, \"Q\",1,self.fluid) \n",
    "        self.Hl   = CP.PropsSI(\"H\",          'T',self.T_vec, \"Q\",0, self.fluid)\n",
    "        self.cpl  = CP.PropsSI(\"CPMASS\",     'T',self.T_vec, \"Q\",0, self.fluid)\n",
    "        self.dDdPl= CP.PropsSI(\"d(D)/d(P)|T\",'T',self.T_vec, \"Q\",0, self.fluid)\n",
    "        self.Sl   = CP.PropsSI(\"S\",          'T',self.T_vec, \"Q\",0, self.fluid)\n",
    "        self.Cvl  = CP.PropsSI(\"CVMASS\",     'T',self.T_vec, \"Q\",0, self.fluid)\n",
    "        self.Al   = CP.PropsSI(\"A\",          'T',self.T_vec, \"Q\",0, self.fluid)\n",
    "        self.Vl   = CP.PropsSI(\"V\",          'T',self.T_vec, \"Q\",0, self.fluid)\n",
    "        self.Ll   = CP.PropsSI(\"L\",          'T',self.T_vec, \"Q\",0, self.fluid)\n",
    "        self.Hg   = CP.PropsSI(\"H\",          'T',self.T_vec, \"Q\",1, self.fluid)\n",
    "        self.cpg  = CP.PropsSI(\"CPMASS\",     'T',self.T_vec, \"Q\",1, self.fluid)\n",
    "        self.dDdPg= CP.PropsSI(\"d(D)/d(P)|T\",'T',self.T_vec, \"Q\",1, self.fluid)\n",
    "        self.Sg   = CP.PropsSI(\"S\",          'T',self.T_vec, \"Q\",1, self.fluid)\n",
    "        self.Cvg  = CP.PropsSI(\"CVMASS\",     'T',self.T_vec, \"Q\",1, self.fluid)\n",
    "        self.Ag   = CP.PropsSI(\"A\",          'T',self.T_vec, \"Q\",1, self.fluid)\n",
    "        self.Vg   = CP.PropsSI(\"V\",          'T',self.T_vec, \"Q\",1, self.fluid)\n",
    "        self.Lg   = CP.PropsSI(\"L\",          'T',self.T_vec, \"Q\",1, self.fluid)\n",
    "        \n",
    "    def GetHeader(self):\n",
    "        lines=[]\n",
    "        lines.append(\"$$SAT_TABLE\")\n",
    "        lines.append(\"{:10d}\".format(self.npoints)+\"{:10d}\".format(4)+\"{:10d}\".format(9))\n",
    "        return lines\n",
    "        \n",
    "    def GetValues(self):\n",
    "        w = ff.FortranRecordWriter('(3ES17.7E3)')\n",
    "        lines = []\n",
    "        lines.append(w.write(self.Psat))\n",
    "        lines.append(w.write(self.T_vec))\n",
    "        lines.append(w.write([0]*len(self.T_vec)))\n",
    "        lines.append(w.write([0]*len(self.T_vec)))\n",
    "        lines.append(w.write(self.Hl))\n",
    "        lines.append(w.write(self.cpl))\n",
    "        lines.append(w.write(self.dDdPl))\n",
    "        lines.append(w.write(self.Sl))\n",
    "        lines.append(w.write(self.Cvl))\n",
    "        lines.append(w.write(self.Al))\n",
    "        lines.append(w.write(self.Vl))\n",
    "        lines.append(w.write(self.Ll))\n",
    "        lines.append(w.write(self.Hg))\n",
    "        lines.append(w.write(self.cpg))\n",
    "        lines.append(w.write(self.dDdPg))\n",
    "        lines.append(w.write(self.Sg))\n",
    "        lines.append(w.write(self.Cvg))\n",
    "        lines.append(w.write(self.Ag))\n",
    "        lines.append(w.write(self.Vg))\n",
    "        lines.append(w.write(self.Lg))\n",
    "        return lines\n",
    "            \n",
    "    def GetTable(self):\n",
    "        lines = self.GetHeader()\n",
    "        lines.extend(self.GetValues())\n",
    "        return lines\n"
   ]
  },
  {
   "cell_type": "code",
   "execution_count": 31,
   "metadata": {},
   "outputs": [],
   "source": [
    "class RGPTable(object):\n",
    "    def __init__(self, Tsh_max, Tsh_min, Psh_min, Psh_max, Tsat_max, Tsat_min,nT, nP,nSat, fluid):\n",
    "        self.fluid=fluid\n",
    "        self.Tsh_max=Tsh_max\n",
    "        self.Tsh_min=Tsh_min\n",
    "        self.Psh_max=Psh_max\n",
    "        self.Psh_min=Psh_min\n",
    "        self.Tsat_max=Tsat_max\n",
    "        self.Tsat_min=Tsat_min\n",
    "        self.P_crit=CP.PropsSI(\"PCRIT\",self.fluid)\n",
    "        self.P_triple=CP.PropsSI(\"PTRIPLE\",self.fluid)\n",
    "        self.T_crit=CP.PropsSI(\"TCRIT\",self.fluid)\n",
    "        self.T_triple=CP.PropsSI(\"TTRIPLE\",self.fluid)\n",
    "\n",
    "        self.nT=nT\n",
    "        self.nP=nP\n",
    "        \n",
    "        \n",
    "        self.SHTable = SuperHeatTable(Tsh_max, Tsh_min, Psh_min, Psh_max, nT, nP, fluid)\n",
    "        self.SatTable = SaturationTable(Tsat_max,Tsat_min, nSat,fluid)\n",
    "    \n",
    "    def GetTable(self):\n",
    "        l = self.GetHeader()\n",
    "        l.extend(self.SHTable.GetTable(self))\n",
    "        l.extend(self.SatTable.GetTable())\n",
    "        return l\n",
    "        \n",
    "        \n",
    "    def GetHeader(self):\n",
    "        l=[]\n",
    "        l.append(\"$$$$HEADER\")\n",
    "        l.extend(self._GetSharedHeader())\n",
    "        return l\n",
    "    \n",
    "    def _GetSharedHeader(self):\n",
    "        l=[]\n",
    "        l.append(\"$$$\"+self.fluid)\n",
    "        l.append(\"{:10d}\".format(1))\n",
    "        l.append(\"$$PARAM\")\n",
    "        l.append(\"{:10d}\".format(26)) #integer (number of parameters)\n",
    "        l.append(\"DESCRIPTION\") \n",
    "        l.append(self.fluid+\" from CoolProp\") #character*50 (description of the material)    \n",
    "        l.append(\"NAME\") \n",
    "        l.append(self.fluid) #(material name, same as $$$<component>\n",
    "        l.append(\"INDEX\")\n",
    "        l.append(self.fluid)\n",
    "        l.append(\"DATABASE\") \n",
    "        l.append(\"CoolProp\")\n",
    "        l.append(\"MODEL\")\n",
    "        l.append(\"{:10d}\".format(3))\n",
    "        l.append(\"UNITS\") \n",
    "        l.append(\"{:10d}\".format(1))\n",
    "        l.append(\"PMIN_SUPERHEAT\")\n",
    "        l.append(\"{:23.16e}\".format(self.Psh_min))\n",
    "        l.append(\"PMAX_SUPERHEAT\")\n",
    "        l.append(\"{:23.16e}\".format(self.Psh_max))\n",
    "        l.append(\"TMIN_SUPERHEAT\")\n",
    "        l.append(\"{:23.16e}\".format(self.Tsh_min))\n",
    "        l.append(\"TMAX_SUPERHEAT\")\n",
    "        l.append(\"{:23.16e}\".format(self.Tsh_max))\n",
    "        l.append(\"TMIN_SATURATION\")\n",
    "        l.append(\"{:23.16e}\".format(self.Tsat_min))\n",
    "        l.append(\"TMAX_SATURATION\")\n",
    "        l.append(\"{:23.16e}\".format(self.Tsat_max))\n",
    "        l.append(\"SUPERCOOLING\")                  \n",
    "        l.append(\"{:23.16e}\".format(0))\n",
    "        l.append(\"P_CRITICAL\")\n",
    "        l.append(\"{:23.16e}\".format(self.P_crit))\n",
    "        l.append(\"P_TRIPLE\")\n",
    "        l.append(\"{:23.16e}\".format(self.P_triple))\n",
    "        l.append(\"T_CRITICAL\")\n",
    "        l.append(\"{:23.16e}\".format(self.T_crit))\n",
    "        l.append(\"T_TRIPLE\")\n",
    "        l.append(\"{:23.16e}\".format(self.T_triple))\n",
    "        for i in range(1,10):\n",
    "            l.append(\"TABLE_\"+str(i))\n",
    "            l.append(\"{:10d}\".format(self.nT)+\"{:10d}\".format(self.nP))\n",
    "        l.append(\"SAT_TABLE\")\n",
    "        l.append(\"{:10d}\".format(5)+\"{:10d}\".format(4)+\"{:10d}\".format(9))\n",
    "        return l\n",
    "    \n",
    "    \n",
    "    def WriteTable(self, filename):\n",
    "        table=self.GetTable()\n",
    "        with open(filename, 'w') as f:\n",
    "            for line in table:\n",
    "                f.write(line + os.linesep)\n",
    "        \n",
    "    \n",
    "    \n",
    "table = RGPTable(400, 240, 55000, 400000,350,240,  5, 5,5, \"R134a\")\n",
    "table.WriteTable(table.fluid+\".rgp\")\n",
    "\n"
   ]
  },
  {
   "cell_type": "code",
   "execution_count": null,
   "metadata": {},
   "outputs": [],
   "source": [
    "table = RGPTable(300, 600, 1e4, 35e5, \\\n",
    "                 CP.PropsSI(\"T\",\"P\",35e5, 'Q',1, \"Toluene\"), \\\n",
    "                 CP.PropsSI(\"T\",\"P\",1e4, 'Q',1, \"Toluene\"), \\\n",
    "                 1000, 1000,1000, \"Toluene\")\n",
    "table.WriteTable(table.fluid+\".rgp\")"
   ]
  },
  {
   "cell_type": "code",
   "execution_count": 12,
   "metadata": {},
   "outputs": [
    {
     "data": {
      "text/plain": [
       "591.75"
      ]
     },
     "execution_count": 12,
     "metadata": {},
     "output_type": "execute_result"
    }
   ],
   "source": [
    "CP.PropsSI(\"Tcrit\", \"Toluene\")"
   ]
  },
  {
   "cell_type": "code",
   "execution_count": 18,
   "metadata": {},
   "outputs": [
    {
     "data": {
      "text/plain": [
       "318.40250048094964"
      ]
     },
     "execution_count": 18,
     "metadata": {},
     "output_type": "execute_result"
    }
   ],
   "source": [
    "CP.PropsSI(\"T\",\"P\",35e5, 'Q',1, \"Toluene\")\n"
   ]
  },
  {
   "cell_type": "code",
   "execution_count": 28,
   "metadata": {},
   "outputs": [
    {
     "data": {
      "text/plain": [
       "array([1.00000000e+04, 1.08592209e+04, 1.17922678e+04, 1.28054841e+04,\n",
       "       1.39057580e+04, 1.51005698e+04, 1.63980423e+04, 1.78069964e+04,\n",
       "       1.93370107e+04, 2.09984870e+04, 2.28027209e+04, 2.47619783e+04,\n",
       "       2.68895792e+04, 2.91999880e+04, 3.17089119e+04, 3.44334079e+04,\n",
       "       3.73919982e+04, 4.06047968e+04, 4.40936457e+04, 4.78822638e+04,\n",
       "       5.19964079e+04, 5.64640479e+04, 6.13155568e+04, 6.65839175e+04,\n",
       "       7.23049468e+04, 7.85175388e+04, 8.52639297e+04, 9.25899846e+04,\n",
       "       1.00545510e+05, 1.09184590e+05, 1.18565958e+05, 1.28753392e+05,\n",
       "       1.39816153e+05, 1.51829449e+05, 1.64874952e+05, 1.79041352e+05,\n",
       "       1.94424959e+05, 2.11130358e+05, 2.29271119e+05, 2.48970572e+05,\n",
       "       2.70362644e+05, 2.93592767e+05, 3.18818870e+05, 3.46212454e+05,\n",
       "       3.75959751e+05, 4.08262998e+05, 4.43341807e+05, 4.81434661e+05,\n",
       "       5.22800533e+05, 5.67720646e+05, 6.16500390e+05, 6.69471391e+05,\n",
       "       7.26993771e+05, 7.89458594e+05, 8.57290526e+05, 9.30950718e+05,\n",
       "       1.01093995e+06, 1.09780202e+06, 1.19212746e+06, 1.29455754e+06,\n",
       "       1.40578863e+06, 1.52657693e+06, 1.65774360e+06, 1.80018040e+06,\n",
       "       1.95485566e+06, 2.12282094e+06, 2.30521815e+06, 2.50328730e+06,\n",
       "       2.71837498e+06, 2.95194343e+06, 3.20558058e+06, 3.48101076e+06,\n",
       "       3.78010647e+06, 4.10490111e+06, 4.45760279e+06, 4.84060933e+06,\n",
       "       5.25652459e+06, 5.70817617e+06, 6.19863458e+06, 6.73123421e+06,\n",
       "       7.30959591e+06, 7.93765166e+06, 8.61967127e+06, 9.36029143e+06,\n",
       "       1.01645472e+07, 1.10379063e+07, 1.19863063e+07, 1.30161948e+07,\n",
       "       1.41345734e+07, 1.53490455e+07, 1.66678675e+07, 1.81000055e+07,\n",
       "       1.96551958e+07, 2.13440113e+07, 2.31779333e+07, 2.51694297e+07,\n",
       "       2.73320397e+07, 2.96804656e+07, 3.22306732e+07, 3.50000000e+07])"
      ]
     },
     "execution_count": 28,
     "metadata": {},
     "output_type": "execute_result"
    }
   ],
   "source": [
    "np.geomspace(1e4,35e6, 100)"
   ]
  },
  {
   "cell_type": "code",
   "execution_count": 32,
   "metadata": {},
   "outputs": [
    {
     "data": {
      "text/plain": [
       "4126000.0"
      ]
     },
     "execution_count": 32,
     "metadata": {},
     "output_type": "execute_result"
    }
   ],
   "source": [
    "CP.PropsSI(\"Pcrit\", \"Toluene\")"
   ]
  },
  {
   "cell_type": "code",
   "execution_count": 34,
   "metadata": {},
   "outputs": [],
   "source": [
    "import matplotlib.pyplot as plt"
   ]
  },
  {
   "cell_type": "code",
   "execution_count": 47,
   "metadata": {},
   "outputs": [
    {
     "data": {
      "image/png": "[encoded data removed]",
      "text/plain": [
       "<Figure size 432x288 with 1 Axes>"
      ]
     },
     "metadata": {
      "needs_background": "light"
     },
     "output_type": "display_data"
    }
   ],
   "source": [
    "fig, ax =plt.subplots()\n",
    "Pcrit = CP.PropsSI(\"Pcrit\", \"Toluene\")\n",
    "Tcrit = CP.PropsSI(\"Tcrit\", \"Toluene\")\n",
    "\n",
    "ax.plot(Pcrit, Tcrit, 'x')\n",
    "ax.plot(table.SatTable.Psat,table.SatTable.T_vec)\n",
    "ax.set_xscale('log')\n"
   ]
  },
  {
   "cell_type": "code",
   "execution_count": 45,
   "metadata": {},
   "outputs": [
    {
     "data": {
      "text/plain": [
       "array([  10000.00000006,   11217.71534985,   12555.82234176,\n",
       "         14023.24749106,   15629.32464433,   17383.79733713,\n",
       "         19296.82044338,   21378.96113219,   23641.19914837,\n",
       "         26094.92644274,   28751.94617375,   31624.4711117 ,\n",
       "         34725.12147193,   38066.92221189,   41663.29982519,\n",
       "         45528.07866773,   49675.47685344,   54120.10175567,\n",
       "         58876.94515679,   63961.37807829,   69389.14533887,\n",
       "         75176.35987313,   81339.49685528,   87895.38766477,\n",
       "         94861.21373435,  102254.50031948,  110093.11022583,\n",
       "        118395.23753598,  127179.40136919,  136464.43971372,\n",
       "        146269.50336533,  156614.05000948,  167517.83848026,\n",
       "        179000.9232302 ,  191083.64904581,  203786.6460392 ,\n",
       "        217130.82495032,  231137.37278919,  245827.74885226,\n",
       "        261223.68114134,  277347.1632176 ,  294220.45152115,\n",
       "        311866.06318676,  330306.77438794,  349565.61923921,\n",
       "        369665.88929137,  390631.13364974,  412485.15975303,\n",
       "        435252.03484455,  458956.08817618,  483621.91398088,\n",
       "        509274.37525801,  535938.6084116 ,  563640.02879213,\n",
       "        592404.33718806,  622257.52732528,  653225.89442867,\n",
       "        685336.04491429,  718614.90727858,  753089.74426222,\n",
       "        788788.16637375,  825738.14686328,  863968.03825171,\n",
       "        903506.59053031,  944382.97114849,  986626.78694411,\n",
       "       1030268.10816961, 1075337.49475528, 1121866.02511977,\n",
       "       1169885.32759212, 1219427.61467415, 1270525.72095012,\n",
       "       1323213.14391672, 1377524.08918938, 1433493.51982524,\n",
       "       1491157.21045238, 1550551.80670356, 1611714.89055664,\n",
       "       1674685.05227275, 1739501.9697218 , 1806206.49599928,\n",
       "       1874840.75637638, 1945448.25577809, 2018073.99817077,\n",
       "       2092764.61945327, 2169568.53570118, 2248536.1089151 ,\n",
       "       2329719.83279038, 2413174.54147591, 2498957.64486168,\n",
       "       2587129.39469103, 2677753.18684397, 2770895.90668571,\n",
       "       2866628.32680533, 2965025.57051771, 3066167.66163341,\n",
       "       3170140.19417132, 3277035.18110231, 3386952.19235168,\n",
       "       3500000.0000775 ])"
      ]
     },
     "execution_count": 45,
     "metadata": {},
     "output_type": "execute_result"
    }
   ],
   "source": []
  },
  {
   "cell_type": "code",
   "execution_count": null,
   "metadata": {},
   "outputs": [],
   "source": []
  }
 ],
 "metadata": {
  "kernelspec": {
   "display_name": "Python 3",
   "language": "python",
   "name": "python3"
  },
  "language_info": {
   "codemirror_mode": {
    "name": "ipython",
    "version": 3
   },
   "file_extension": ".py",
   "mimetype": "text/x-python",
   "name": "python",
   "nbconvert_exporter": "python",
   "pygments_lexer": "ipython3",
   "version": "3.6.10"
  }
 },
 "nbformat": 4,
 "nbformat_minor": 4
}
